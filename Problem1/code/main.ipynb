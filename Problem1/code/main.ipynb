{
  "nbformat": 4,
  "nbformat_minor": 0,
  "metadata": {
    "colab": {
      "name": "main.ipynb",
      "provenance": []
    },
    "kernelspec": {
      "name": "python3",
      "display_name": "Python 3"
    },
    "language_info": {
      "name": "python"
    }
  },
  "cells": [
    {
      "cell_type": "code",
      "execution_count": 402,
      "metadata": {
        "id": "fYxqFhQsChuI"
      },
      "outputs": [],
      "source": [
        "import pandas as pd\n",
        "df =pd.read_csv(\"intelligentGuessingDataSet.csv\",encoding='latin-1')"
      ]
    },
    {
      "cell_type": "code",
      "source": [
        "df"
      ],
      "metadata": {
        "id": "xCCaChS1Ct5B"
      },
      "execution_count": null,
      "outputs": []
    },
    {
      "cell_type": "code",
      "source": [
        "import re"
      ],
      "metadata": {
        "id": "l-uq2T4wC-xu"
      },
      "execution_count": 332,
      "outputs": []
    },
    {
      "cell_type": "code",
      "source": [
        "df2 = df.copy().fillna(0)"
      ],
      "metadata": {
        "id": "Na-pfptpin7i"
      },
      "execution_count": 389,
      "outputs": []
    },
    {
      "cell_type": "code",
      "source": [
        "sample = df2.iloc[13,:]"
      ],
      "metadata": {
        "id": "q9w5Scp0C_tE"
      },
      "execution_count": 366,
      "outputs": []
    },
    {
      "cell_type": "code",
      "source": [
        "array = df2['firstname'].tolist()+df2['lastname'].tolist()\n",
        "for index, row in df2.iterrows():\n",
        "    if row['firstname']==0 or row['lastname']==0:\n",
        "     \n",
        "      email = row['email'].split('@')[0]\n",
        "     \n",
        "      for i in array:\n",
        "        if i==0:\n",
        "          continue\n",
        "        a = re.search(i,email)\n",
        "        if a:\n",
        "          break\n",
        "      if a:\n",
        "        if row['firstname'] ==0:\n",
        "          df2.loc[index,'firstname'] = a.string\n",
        "        else:\n",
        "          df2.loc[index,'lastname'] = a.string\n",
        "      else:\n",
        "        if row['firstname'] ==0:\n",
        "          df2.loc[index,'firstname'] = ''\n",
        "        else:\n",
        "          df2.loc[index,'lastname'] = ''\n"
      ],
      "metadata": {
        "id": "RobL9KEEJ8B4"
      },
      "execution_count": 393,
      "outputs": []
    },
    {
      "cell_type": "code",
      "source": [
        "for index,r in df2.iterrows():\n",
        "  p,p_n = get_pattern(r)\n",
        "  df2.loc[index,'Email Pattern'] = p\n",
        "  df2.loc[index,'Comments']=p_n"
      ],
      "metadata": {
        "id": "9PCPUWLupBQt"
      },
      "execution_count": 453,
      "outputs": []
    },
    {
      "cell_type": "code",
      "source": [
        "def get_pattern(data):\n",
        "  email = data['email'].split('@')[0]\n",
        "  lname = data['lastname'].lower()\n",
        "  fname = data['firstname'].lower()\n",
        "  dot = re.match(r'[\\w\\.-]+\\.[\\w\\.-]+',email)\n",
        "  under = re.match(r'[\\w\\.-]+\\_[\\w\\.-]+',email)\n",
        "  f_best = best_match(fname,email)\n",
        "  record_f = ''\n",
        "  record_f_n=''\n",
        "  record_l_n=''\n",
        "  record_l = ''\n",
        "  l_names = lname.split(' ')\n",
        "  l_best = []\n",
        "\n",
        "  for ls in l_names:\n",
        "    l_best.append(best_match(ls,email))\n",
        "\n",
        "  \n",
        "#For first name\n",
        "  if fname!='':\n",
        "    m = re.search(email[f_best[0]:f_best[1]],fname)\n",
        "    if m.span()[1]==len(fname):\n",
        "      record_f = '<11>'\n",
        "      record_f_n = 'firstname'\n",
        "    elif m.span()[1]-m.span()[0]>1:\n",
        "      record_f ='<11-f{}l>'.format(m.span()[1]-m.span()[0])\n",
        "      record_f_n = 'First {} letters of firstname'.format(m.span()[1]-m.span()[0])\n",
        "    else:\n",
        "      record_f ='<1>'.format(m.span()[1]-m.span()[0])\n",
        "      record_f_n = 'first letter of firstname'\n",
        "\n",
        "  # if record_f_n!='':\n",
        "  #   record_f_n=record_f_n+' and '\n",
        "#for last_name\n",
        "  if l_names[0]!= '':\n",
        "    for j,i in enumerate(l_best):\n",
        "      # if record_f_n!='':\n",
        "      #   record_l_n=record_l_n+' and '\n",
        "      if(i == (0,0)):\n",
        "        continue\n",
        "      m = re.search(email[i[0]:i[1]],l_names[j])\n",
        "      temp2=''\n",
        "      temp= ''\n",
        "      if record_l_n != '':\n",
        "        record_l_n = record_l_n+' and '\n",
        "      if m:\n",
        "        if len(l_names)>1:\n",
        "          record_l = record_l + ('<2{}>'.format(j))\n",
        "          if j ==0:\n",
        "            record_l_n = record_l_n+'First part of lastname'\n",
        "            \n",
        "          else:\n",
        "             record_l_n = record_l_n+'Second part of lastname'\n",
        "         \n",
        "        else: \n",
        "          record_l = record_l+('<22>') \n",
        "          record_l_n = 'lastname' \n",
        "  if record_f_n=='' or record_l_n=='':\n",
        "    conj=''\n",
        "  else:\n",
        "    if dot:\n",
        "      conj = '.'\n",
        "    elif under:\n",
        "      conj='_'\n",
        "    else:\n",
        "      conj=' and '\n",
        "  if conj==' and ':\n",
        "    return record_f+record_l,record_f_n+conj+record_l_n\n",
        "  else:\n",
        "    return record_f+conj+record_l,record_f_n+conj+record_l_n"
      ],
      "metadata": {
        "id": "zTWDTzzIV0Eq"
      },
      "execution_count": 450,
      "outputs": []
    },
    {
      "cell_type": "code",
      "source": [
        "def best_match(s1,s2):\n",
        "  a = (0,0)\n",
        "  for i in range(len(s1)+1):\n",
        "    if i ==0:\n",
        "      continue\n",
        "    m = re.search(s1[0:i],s2)\n",
        "    if m:\n",
        "      a = m.span()\n",
        "\n",
        "  return a\n"
      ],
      "metadata": {
        "id": "XDIMlNINLZ4n"
      },
      "execution_count": 309,
      "outputs": []
    },
    {
      "cell_type": "code",
      "source": [
        "df2.to_csv('problemset1_solution.csv', index=False,) "
      ],
      "metadata": {
        "id": "h-CrBTyP5ox-"
      },
      "execution_count": 456,
      "outputs": []
    },
    {
      "cell_type": "code",
      "source": [
        ""
      ],
      "metadata": {
        "id": "RCyL-ATy6BAQ"
      },
      "execution_count": null,
      "outputs": []
    }
  ]
}